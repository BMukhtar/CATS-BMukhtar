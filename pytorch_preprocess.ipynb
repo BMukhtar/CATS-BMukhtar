{
 "cells": [
  {
   "cell_type": "code",
   "execution_count": 1,
   "metadata": {
    "collapsed": true,
    "ExecuteTime": {
     "start_time": "2023-05-04T16:56:35.416986Z",
     "end_time": "2023-05-04T16:56:36.114540Z"
    }
   },
   "outputs": [],
   "source": [
    "import os\n",
    "from tqdm import tqdm\n",
    "import numpy as np\n",
    "import tiktoken\n",
    "from datasets import load_dataset # huggingface datasets"
   ]
  },
  {
   "cell_type": "code",
   "execution_count": 2,
   "outputs": [
    {
     "name": "stderr",
     "output_type": "stream",
     "text": [
      "Found cached dataset json (/Users/bm/.cache/huggingface/datasets/json/default-14dc56ae28f0b495/0.0.0/e347ab1c932092252e717ff3f949105a4dd28b27e842dd53157d2f72e276c2e4)\n"
     ]
    },
    {
     "data": {
      "text/plain": "  0%|          | 0/1 [00:00<?, ?it/s]",
      "application/vnd.jupyter.widget-view+json": {
       "version_major": 2,
       "version_minor": 0,
       "model_id": "16b17659b0dc4b86b5bffd01292d1927"
      }
     },
     "metadata": {},
     "output_type": "display_data"
    }
   ],
   "source": [
    "dataset = load_dataset(\"json\", data_files='./data/json/dev.json')"
   ],
   "metadata": {
    "collapsed": false,
    "ExecuteTime": {
     "start_time": "2023-05-04T16:56:36.115534Z",
     "end_time": "2023-05-04T16:56:37.215578Z"
    }
   }
  },
  {
   "cell_type": "code",
   "execution_count": 3,
   "outputs": [
    {
     "name": "stderr",
     "output_type": "stream",
     "text": [
      "Loading cached split indices for dataset at /Users/bm/.cache/huggingface/datasets/json/default-14dc56ae28f0b495/0.0.0/e347ab1c932092252e717ff3f949105a4dd28b27e842dd53157d2f72e276c2e4/cache-e65036e96329467f.arrow and /Users/bm/.cache/huggingface/datasets/json/default-14dc56ae28f0b495/0.0.0/e347ab1c932092252e717ff3f949105a4dd28b27e842dd53157d2f72e276c2e4/cache-507da4f4a54b4983.arrow\n"
     ]
    }
   ],
   "source": [
    "# owt by default only contains the 'train' split, so create a test split\n",
    "split_dataset = dataset[\"train\"].train_test_split(test_size=0.1, seed=2357, shuffle=True)\n",
    "split_dataset['val'] = split_dataset.pop('test') # rename the test split to val"
   ],
   "metadata": {
    "collapsed": false,
    "ExecuteTime": {
     "start_time": "2023-05-04T16:56:37.216945Z",
     "end_time": "2023-05-04T16:56:37.237544Z"
    }
   }
  },
  {
   "cell_type": "code",
   "execution_count": 18,
   "outputs": [
    {
     "data": {
      "text/plain": "tokenizing the splits (num_proc=7):   0%|          | 0/10 [00:00<?, ? examples/s]",
      "application/vnd.jupyter.widget-view+json": {
       "version_major": 2,
       "version_minor": 0,
       "model_id": "55be75d0ce5e40e88f8009918de4d846"
      }
     },
     "metadata": {},
     "output_type": "display_data"
    },
    {
     "name": "stderr",
     "output_type": "stream",
     "text": [
      "Process ForkPoolWorker-100:\n",
      "Process ForkPoolWorker-98:\n",
      "Process ForkPoolWorker-102:\n",
      "Process ForkPoolWorker-101:\n",
      "Process ForkPoolWorker-96:\n",
      "Process ForkPoolWorker-97:\n",
      "Process ForkPoolWorker-99:\n",
      "Traceback (most recent call last):\n",
      "Traceback (most recent call last):\n",
      "Traceback (most recent call last):\n",
      "Traceback (most recent call last):\n",
      "Traceback (most recent call last):\n",
      "Traceback (most recent call last):\n",
      "Traceback (most recent call last):\n",
      "  File \"/Users/bm/miniforge3/envs/cats/lib/python3.10/site-packages/multiprocess/process.py\", line 314, in _bootstrap\n",
      "    self.run()\n",
      "  File \"/Users/bm/miniforge3/envs/cats/lib/python3.10/site-packages/multiprocess/process.py\", line 314, in _bootstrap\n",
      "    self.run()\n",
      "  File \"/Users/bm/miniforge3/envs/cats/lib/python3.10/site-packages/multiprocess/process.py\", line 314, in _bootstrap\n",
      "    self.run()\n",
      "  File \"/Users/bm/miniforge3/envs/cats/lib/python3.10/site-packages/multiprocess/process.py\", line 314, in _bootstrap\n",
      "    self.run()\n",
      "  File \"/Users/bm/miniforge3/envs/cats/lib/python3.10/site-packages/multiprocess/process.py\", line 314, in _bootstrap\n",
      "    self.run()\n",
      "  File \"/Users/bm/miniforge3/envs/cats/lib/python3.10/site-packages/multiprocess/process.py\", line 314, in _bootstrap\n",
      "    self.run()\n",
      "  File \"/Users/bm/miniforge3/envs/cats/lib/python3.10/site-packages/multiprocess/process.py\", line 314, in _bootstrap\n",
      "    self.run()\n",
      "  File \"/Users/bm/miniforge3/envs/cats/lib/python3.10/site-packages/multiprocess/process.py\", line 108, in run\n",
      "    self._target(*self._args, **self._kwargs)\n",
      "  File \"/Users/bm/miniforge3/envs/cats/lib/python3.10/site-packages/multiprocess/process.py\", line 108, in run\n",
      "    self._target(*self._args, **self._kwargs)\n",
      "  File \"/Users/bm/miniforge3/envs/cats/lib/python3.10/site-packages/multiprocess/process.py\", line 108, in run\n",
      "    self._target(*self._args, **self._kwargs)\n",
      "  File \"/Users/bm/miniforge3/envs/cats/lib/python3.10/site-packages/multiprocess/process.py\", line 108, in run\n",
      "    self._target(*self._args, **self._kwargs)\n",
      "  File \"/Users/bm/miniforge3/envs/cats/lib/python3.10/site-packages/multiprocess/process.py\", line 108, in run\n",
      "    self._target(*self._args, **self._kwargs)\n",
      "  File \"/Users/bm/miniforge3/envs/cats/lib/python3.10/site-packages/multiprocess/process.py\", line 108, in run\n",
      "    self._target(*self._args, **self._kwargs)\n",
      "  File \"/Users/bm/miniforge3/envs/cats/lib/python3.10/site-packages/multiprocess/process.py\", line 108, in run\n",
      "    self._target(*self._args, **self._kwargs)\n",
      "  File \"/Users/bm/miniforge3/envs/cats/lib/python3.10/site-packages/multiprocess/pool.py\", line 125, in worker\n",
      "    result = (True, func(*args, **kwds))\n",
      "  File \"/Users/bm/miniforge3/envs/cats/lib/python3.10/site-packages/multiprocess/pool.py\", line 125, in worker\n",
      "    result = (True, func(*args, **kwds))\n",
      "  File \"/Users/bm/miniforge3/envs/cats/lib/python3.10/site-packages/multiprocess/pool.py\", line 125, in worker\n",
      "    result = (True, func(*args, **kwds))\n",
      "  File \"/Users/bm/miniforge3/envs/cats/lib/python3.10/site-packages/multiprocess/pool.py\", line 125, in worker\n",
      "    result = (True, func(*args, **kwds))\n",
      "  File \"/Users/bm/miniforge3/envs/cats/lib/python3.10/site-packages/multiprocess/pool.py\", line 125, in worker\n",
      "    result = (True, func(*args, **kwds))\n",
      "  File \"/Users/bm/miniforge3/envs/cats/lib/python3.10/site-packages/multiprocess/pool.py\", line 125, in worker\n",
      "    result = (True, func(*args, **kwds))\n",
      "  File \"/Users/bm/miniforge3/envs/cats/lib/python3.10/site-packages/multiprocess/pool.py\", line 125, in worker\n",
      "    result = (True, func(*args, **kwds))\n",
      "  File \"/Users/bm/miniforge3/envs/cats/lib/python3.10/site-packages/datasets/utils/py_utils.py\", line 1353, in _write_generator_to_queue\n",
      "    for i, result in enumerate(func(**kwargs)):\n",
      "  File \"/Users/bm/miniforge3/envs/cats/lib/python3.10/site-packages/datasets/utils/py_utils.py\", line 1353, in _write_generator_to_queue\n",
      "    for i, result in enumerate(func(**kwargs)):\n",
      "  File \"/Users/bm/miniforge3/envs/cats/lib/python3.10/site-packages/datasets/utils/py_utils.py\", line 1353, in _write_generator_to_queue\n",
      "    for i, result in enumerate(func(**kwargs)):\n",
      "  File \"/Users/bm/miniforge3/envs/cats/lib/python3.10/site-packages/datasets/utils/py_utils.py\", line 1353, in _write_generator_to_queue\n",
      "    for i, result in enumerate(func(**kwargs)):\n",
      "  File \"/Users/bm/miniforge3/envs/cats/lib/python3.10/site-packages/datasets/utils/py_utils.py\", line 1353, in _write_generator_to_queue\n",
      "    for i, result in enumerate(func(**kwargs)):\n",
      "  File \"/Users/bm/miniforge3/envs/cats/lib/python3.10/site-packages/datasets/utils/py_utils.py\", line 1353, in _write_generator_to_queue\n",
      "    for i, result in enumerate(func(**kwargs)):\n",
      "  File \"/Users/bm/miniforge3/envs/cats/lib/python3.10/site-packages/datasets/utils/py_utils.py\", line 1353, in _write_generator_to_queue\n",
      "    for i, result in enumerate(func(**kwargs)):\n",
      "  File \"/Users/bm/miniforge3/envs/cats/lib/python3.10/site-packages/datasets/arrow_dataset.py\", line 3427, in _map_single\n",
      "    example = apply_function_on_filtered_inputs(example, i, offset=offset)\n",
      "  File \"/Users/bm/miniforge3/envs/cats/lib/python3.10/site-packages/datasets/arrow_dataset.py\", line 3427, in _map_single\n",
      "    example = apply_function_on_filtered_inputs(example, i, offset=offset)\n",
      "  File \"/Users/bm/miniforge3/envs/cats/lib/python3.10/site-packages/datasets/arrow_dataset.py\", line 3427, in _map_single\n",
      "    example = apply_function_on_filtered_inputs(example, i, offset=offset)\n",
      "  File \"/Users/bm/miniforge3/envs/cats/lib/python3.10/site-packages/datasets/arrow_dataset.py\", line 3427, in _map_single\n",
      "    example = apply_function_on_filtered_inputs(example, i, offset=offset)\n",
      "  File \"/Users/bm/miniforge3/envs/cats/lib/python3.10/site-packages/datasets/arrow_dataset.py\", line 3427, in _map_single\n",
      "    example = apply_function_on_filtered_inputs(example, i, offset=offset)\n",
      "  File \"/Users/bm/miniforge3/envs/cats/lib/python3.10/site-packages/datasets/arrow_dataset.py\", line 3427, in _map_single\n",
      "    example = apply_function_on_filtered_inputs(example, i, offset=offset)\n",
      "  File \"/Users/bm/miniforge3/envs/cats/lib/python3.10/site-packages/datasets/arrow_dataset.py\", line 3427, in _map_single\n",
      "    example = apply_function_on_filtered_inputs(example, i, offset=offset)\n",
      "  File \"/Users/bm/miniforge3/envs/cats/lib/python3.10/site-packages/datasets/arrow_dataset.py\", line 3330, in apply_function_on_filtered_inputs\n",
      "    processed_inputs = function(*fn_args, *additional_args, **fn_kwargs)\n",
      "  File \"/Users/bm/miniforge3/envs/cats/lib/python3.10/site-packages/datasets/arrow_dataset.py\", line 3330, in apply_function_on_filtered_inputs\n",
      "    processed_inputs = function(*fn_args, *additional_args, **fn_kwargs)\n",
      "  File \"/Users/bm/miniforge3/envs/cats/lib/python3.10/site-packages/datasets/arrow_dataset.py\", line 3330, in apply_function_on_filtered_inputs\n",
      "    processed_inputs = function(*fn_args, *additional_args, **fn_kwargs)\n",
      "  File \"/Users/bm/miniforge3/envs/cats/lib/python3.10/site-packages/datasets/arrow_dataset.py\", line 3330, in apply_function_on_filtered_inputs\n",
      "    processed_inputs = function(*fn_args, *additional_args, **fn_kwargs)\n",
      "  File \"/Users/bm/miniforge3/envs/cats/lib/python3.10/site-packages/datasets/arrow_dataset.py\", line 3330, in apply_function_on_filtered_inputs\n",
      "    processed_inputs = function(*fn_args, *additional_args, **fn_kwargs)\n",
      "  File \"/Users/bm/miniforge3/envs/cats/lib/python3.10/site-packages/datasets/arrow_dataset.py\", line 3330, in apply_function_on_filtered_inputs\n",
      "    processed_inputs = function(*fn_args, *additional_args, **fn_kwargs)\n",
      "  File \"/Users/bm/miniforge3/envs/cats/lib/python3.10/site-packages/datasets/arrow_dataset.py\", line 3330, in apply_function_on_filtered_inputs\n",
      "    processed_inputs = function(*fn_args, *additional_args, **fn_kwargs)\n",
      "  File \"/var/folders/fg/64r5cpms6lg0y6jnx2z5l1nr0000gn/T/ipykernel_65755/511536003.py\", line 11, in process\n",
      "    embds = model.encode(example['sentences'])\n",
      "  File \"/var/folders/fg/64r5cpms6lg0y6jnx2z5l1nr0000gn/T/ipykernel_65755/511536003.py\", line 11, in process\n",
      "    embds = model.encode(example['sentences'])\n",
      "  File \"/var/folders/fg/64r5cpms6lg0y6jnx2z5l1nr0000gn/T/ipykernel_65755/511536003.py\", line 11, in process\n",
      "    embds = model.encode(example['sentences'])\n",
      "  File \"/var/folders/fg/64r5cpms6lg0y6jnx2z5l1nr0000gn/T/ipykernel_65755/511536003.py\", line 11, in process\n",
      "    embds = model.encode(example['sentences'])\n",
      "  File \"/var/folders/fg/64r5cpms6lg0y6jnx2z5l1nr0000gn/T/ipykernel_65755/511536003.py\", line 11, in process\n",
      "    embds = model.encode(example['sentences'])\n",
      "  File \"/var/folders/fg/64r5cpms6lg0y6jnx2z5l1nr0000gn/T/ipykernel_65755/511536003.py\", line 11, in process\n",
      "    embds = model.encode(example['sentences'])\n",
      "  File \"/var/folders/fg/64r5cpms6lg0y6jnx2z5l1nr0000gn/T/ipykernel_65755/511536003.py\", line 11, in process\n",
      "    embds = model.encode(example['sentences'])\n",
      "  File \"/Users/bm/miniforge3/envs/cats/lib/python3.10/site-packages/sentence_transformers/SentenceTransformer.py\", line 165, in encode\n",
      "    out_features = self.forward(features)\n",
      "  File \"/Users/bm/miniforge3/envs/cats/lib/python3.10/site-packages/sentence_transformers/SentenceTransformer.py\", line 165, in encode\n",
      "    out_features = self.forward(features)\n",
      "  File \"/Users/bm/miniforge3/envs/cats/lib/python3.10/site-packages/sentence_transformers/SentenceTransformer.py\", line 165, in encode\n",
      "    out_features = self.forward(features)\n",
      "  File \"/Users/bm/miniforge3/envs/cats/lib/python3.10/site-packages/sentence_transformers/SentenceTransformer.py\", line 165, in encode\n",
      "    out_features = self.forward(features)\n",
      "  File \"/Users/bm/miniforge3/envs/cats/lib/python3.10/site-packages/sentence_transformers/SentenceTransformer.py\", line 165, in encode\n",
      "    out_features = self.forward(features)\n",
      "  File \"/Users/bm/miniforge3/envs/cats/lib/python3.10/site-packages/sentence_transformers/SentenceTransformer.py\", line 165, in encode\n",
      "    out_features = self.forward(features)\n",
      "  File \"/Users/bm/miniforge3/envs/cats/lib/python3.10/site-packages/sentence_transformers/SentenceTransformer.py\", line 165, in encode\n",
      "    out_features = self.forward(features)\n",
      "  File \"/Users/bm/miniforge3/envs/cats/lib/python3.10/site-packages/torch/nn/modules/container.py\", line 217, in forward\n",
      "    input = module(input)\n",
      "  File \"/Users/bm/miniforge3/envs/cats/lib/python3.10/site-packages/torch/nn/modules/container.py\", line 217, in forward\n",
      "    input = module(input)\n",
      "  File \"/Users/bm/miniforge3/envs/cats/lib/python3.10/site-packages/torch/nn/modules/container.py\", line 217, in forward\n",
      "    input = module(input)\n",
      "  File \"/Users/bm/miniforge3/envs/cats/lib/python3.10/site-packages/torch/nn/modules/container.py\", line 217, in forward\n",
      "    input = module(input)\n",
      "  File \"/Users/bm/miniforge3/envs/cats/lib/python3.10/site-packages/torch/nn/modules/container.py\", line 217, in forward\n",
      "    input = module(input)\n",
      "  File \"/Users/bm/miniforge3/envs/cats/lib/python3.10/site-packages/torch/nn/modules/container.py\", line 217, in forward\n",
      "    input = module(input)\n",
      "  File \"/Users/bm/miniforge3/envs/cats/lib/python3.10/site-packages/torch/nn/modules/container.py\", line 217, in forward\n",
      "    input = module(input)\n",
      "  File \"/Users/bm/miniforge3/envs/cats/lib/python3.10/site-packages/torch/nn/modules/module.py\", line 1501, in _call_impl\n",
      "    return forward_call(*args, **kwargs)\n",
      "  File \"/Users/bm/miniforge3/envs/cats/lib/python3.10/site-packages/torch/nn/modules/module.py\", line 1501, in _call_impl\n",
      "    return forward_call(*args, **kwargs)\n",
      "  File \"/Users/bm/miniforge3/envs/cats/lib/python3.10/site-packages/torch/nn/modules/module.py\", line 1501, in _call_impl\n",
      "    return forward_call(*args, **kwargs)\n",
      "  File \"/Users/bm/miniforge3/envs/cats/lib/python3.10/site-packages/torch/nn/modules/module.py\", line 1501, in _call_impl\n",
      "    return forward_call(*args, **kwargs)\n",
      "  File \"/Users/bm/miniforge3/envs/cats/lib/python3.10/site-packages/torch/nn/modules/module.py\", line 1501, in _call_impl\n",
      "    return forward_call(*args, **kwargs)\n",
      "  File \"/Users/bm/miniforge3/envs/cats/lib/python3.10/site-packages/torch/nn/modules/module.py\", line 1501, in _call_impl\n",
      "    return forward_call(*args, **kwargs)\n",
      "  File \"/Users/bm/miniforge3/envs/cats/lib/python3.10/site-packages/torch/nn/modules/module.py\", line 1501, in _call_impl\n",
      "    return forward_call(*args, **kwargs)\n",
      "  File \"/Users/bm/miniforge3/envs/cats/lib/python3.10/site-packages/sentence_transformers/models/Transformer.py\", line 66, in forward\n",
      "    output_states = self.auto_model(**trans_features, return_dict=False)\n",
      "  File \"/Users/bm/miniforge3/envs/cats/lib/python3.10/site-packages/sentence_transformers/models/Transformer.py\", line 66, in forward\n",
      "    output_states = self.auto_model(**trans_features, return_dict=False)\n",
      "  File \"/Users/bm/miniforge3/envs/cats/lib/python3.10/site-packages/sentence_transformers/models/Transformer.py\", line 66, in forward\n",
      "    output_states = self.auto_model(**trans_features, return_dict=False)\n",
      "  File \"/Users/bm/miniforge3/envs/cats/lib/python3.10/site-packages/sentence_transformers/models/Transformer.py\", line 66, in forward\n",
      "    output_states = self.auto_model(**trans_features, return_dict=False)\n",
      "  File \"/Users/bm/miniforge3/envs/cats/lib/python3.10/site-packages/sentence_transformers/models/Transformer.py\", line 66, in forward\n",
      "    output_states = self.auto_model(**trans_features, return_dict=False)\n",
      "  File \"/Users/bm/miniforge3/envs/cats/lib/python3.10/site-packages/sentence_transformers/models/Transformer.py\", line 66, in forward\n",
      "    output_states = self.auto_model(**trans_features, return_dict=False)\n",
      "  File \"/Users/bm/miniforge3/envs/cats/lib/python3.10/site-packages/sentence_transformers/models/Transformer.py\", line 66, in forward\n",
      "    output_states = self.auto_model(**trans_features, return_dict=False)\n",
      "  File \"/Users/bm/miniforge3/envs/cats/lib/python3.10/site-packages/torch/nn/modules/module.py\", line 1501, in _call_impl\n",
      "    return forward_call(*args, **kwargs)\n",
      "  File \"/Users/bm/miniforge3/envs/cats/lib/python3.10/site-packages/torch/nn/modules/module.py\", line 1501, in _call_impl\n",
      "    return forward_call(*args, **kwargs)\n",
      "  File \"/Users/bm/miniforge3/envs/cats/lib/python3.10/site-packages/torch/nn/modules/module.py\", line 1501, in _call_impl\n",
      "    return forward_call(*args, **kwargs)\n",
      "  File \"/Users/bm/miniforge3/envs/cats/lib/python3.10/site-packages/torch/nn/modules/module.py\", line 1501, in _call_impl\n",
      "    return forward_call(*args, **kwargs)\n",
      "  File \"/Users/bm/miniforge3/envs/cats/lib/python3.10/site-packages/torch/nn/modules/module.py\", line 1501, in _call_impl\n",
      "    return forward_call(*args, **kwargs)\n",
      "  File \"/Users/bm/miniforge3/envs/cats/lib/python3.10/site-packages/torch/nn/modules/module.py\", line 1501, in _call_impl\n",
      "    return forward_call(*args, **kwargs)\n",
      "  File \"/Users/bm/miniforge3/envs/cats/lib/python3.10/site-packages/torch/nn/modules/module.py\", line 1501, in _call_impl\n",
      "    return forward_call(*args, **kwargs)\n",
      "  File \"/Users/bm/miniforge3/envs/cats/lib/python3.10/site-packages/transformers/models/bert/modeling_bert.py\", line 1013, in forward\n",
      "    embedding_output = self.embeddings(\n",
      "  File \"/Users/bm/miniforge3/envs/cats/lib/python3.10/site-packages/transformers/models/bert/modeling_bert.py\", line 1013, in forward\n",
      "    embedding_output = self.embeddings(\n",
      "  File \"/Users/bm/miniforge3/envs/cats/lib/python3.10/site-packages/transformers/models/bert/modeling_bert.py\", line 1013, in forward\n",
      "    embedding_output = self.embeddings(\n",
      "  File \"/Users/bm/miniforge3/envs/cats/lib/python3.10/site-packages/transformers/models/bert/modeling_bert.py\", line 1013, in forward\n",
      "    embedding_output = self.embeddings(\n",
      "  File \"/Users/bm/miniforge3/envs/cats/lib/python3.10/site-packages/transformers/models/bert/modeling_bert.py\", line 1013, in forward\n",
      "    embedding_output = self.embeddings(\n",
      "  File \"/Users/bm/miniforge3/envs/cats/lib/python3.10/site-packages/transformers/models/bert/modeling_bert.py\", line 1013, in forward\n",
      "    embedding_output = self.embeddings(\n",
      "  File \"/Users/bm/miniforge3/envs/cats/lib/python3.10/site-packages/transformers/models/bert/modeling_bert.py\", line 1013, in forward\n",
      "    embedding_output = self.embeddings(\n",
      "  File \"/Users/bm/miniforge3/envs/cats/lib/python3.10/site-packages/torch/nn/modules/module.py\", line 1501, in _call_impl\n",
      "    return forward_call(*args, **kwargs)\n",
      "  File \"/Users/bm/miniforge3/envs/cats/lib/python3.10/site-packages/torch/nn/modules/module.py\", line 1501, in _call_impl\n",
      "    return forward_call(*args, **kwargs)\n",
      "  File \"/Users/bm/miniforge3/envs/cats/lib/python3.10/site-packages/torch/nn/modules/module.py\", line 1501, in _call_impl\n",
      "    return forward_call(*args, **kwargs)\n",
      "  File \"/Users/bm/miniforge3/envs/cats/lib/python3.10/site-packages/torch/nn/modules/module.py\", line 1501, in _call_impl\n",
      "    return forward_call(*args, **kwargs)\n",
      "  File \"/Users/bm/miniforge3/envs/cats/lib/python3.10/site-packages/torch/nn/modules/module.py\", line 1501, in _call_impl\n",
      "    return forward_call(*args, **kwargs)\n",
      "  File \"/Users/bm/miniforge3/envs/cats/lib/python3.10/site-packages/torch/nn/modules/module.py\", line 1501, in _call_impl\n",
      "    return forward_call(*args, **kwargs)\n",
      "  File \"/Users/bm/miniforge3/envs/cats/lib/python3.10/site-packages/torch/nn/modules/module.py\", line 1501, in _call_impl\n",
      "    return forward_call(*args, **kwargs)\n",
      "  File \"/Users/bm/miniforge3/envs/cats/lib/python3.10/site-packages/transformers/models/bert/modeling_bert.py\", line 230, in forward\n",
      "    inputs_embeds = self.word_embeddings(input_ids)\n",
      "  File \"/Users/bm/miniforge3/envs/cats/lib/python3.10/site-packages/transformers/models/bert/modeling_bert.py\", line 230, in forward\n",
      "    inputs_embeds = self.word_embeddings(input_ids)\n",
      "  File \"/Users/bm/miniforge3/envs/cats/lib/python3.10/site-packages/transformers/models/bert/modeling_bert.py\", line 230, in forward\n",
      "    inputs_embeds = self.word_embeddings(input_ids)\n",
      "  File \"/Users/bm/miniforge3/envs/cats/lib/python3.10/site-packages/transformers/models/bert/modeling_bert.py\", line 230, in forward\n",
      "    inputs_embeds = self.word_embeddings(input_ids)\n",
      "  File \"/Users/bm/miniforge3/envs/cats/lib/python3.10/site-packages/transformers/models/bert/modeling_bert.py\", line 230, in forward\n",
      "    inputs_embeds = self.word_embeddings(input_ids)\n",
      "  File \"/Users/bm/miniforge3/envs/cats/lib/python3.10/site-packages/transformers/models/bert/modeling_bert.py\", line 230, in forward\n",
      "    inputs_embeds = self.word_embeddings(input_ids)\n",
      "  File \"/Users/bm/miniforge3/envs/cats/lib/python3.10/site-packages/transformers/models/bert/modeling_bert.py\", line 230, in forward\n",
      "    inputs_embeds = self.word_embeddings(input_ids)\n",
      "  File \"/Users/bm/miniforge3/envs/cats/lib/python3.10/site-packages/torch/nn/modules/module.py\", line 1501, in _call_impl\n",
      "    return forward_call(*args, **kwargs)\n",
      "  File \"/Users/bm/miniforge3/envs/cats/lib/python3.10/site-packages/torch/nn/modules/module.py\", line 1501, in _call_impl\n",
      "    return forward_call(*args, **kwargs)\n",
      "  File \"/Users/bm/miniforge3/envs/cats/lib/python3.10/site-packages/torch/nn/modules/module.py\", line 1501, in _call_impl\n",
      "    return forward_call(*args, **kwargs)\n",
      "  File \"/Users/bm/miniforge3/envs/cats/lib/python3.10/site-packages/torch/nn/modules/module.py\", line 1501, in _call_impl\n",
      "    return forward_call(*args, **kwargs)\n",
      "  File \"/Users/bm/miniforge3/envs/cats/lib/python3.10/site-packages/torch/nn/modules/module.py\", line 1501, in _call_impl\n",
      "    return forward_call(*args, **kwargs)\n",
      "  File \"/Users/bm/miniforge3/envs/cats/lib/python3.10/site-packages/torch/nn/modules/module.py\", line 1501, in _call_impl\n",
      "    return forward_call(*args, **kwargs)\n",
      "  File \"/Users/bm/miniforge3/envs/cats/lib/python3.10/site-packages/torch/nn/modules/module.py\", line 1501, in _call_impl\n",
      "    return forward_call(*args, **kwargs)\n",
      "  File \"/Users/bm/miniforge3/envs/cats/lib/python3.10/site-packages/torch/nn/modules/sparse.py\", line 162, in forward\n",
      "    return F.embedding(\n",
      "  File \"/Users/bm/miniforge3/envs/cats/lib/python3.10/site-packages/torch/nn/modules/sparse.py\", line 162, in forward\n",
      "    return F.embedding(\n",
      "  File \"/Users/bm/miniforge3/envs/cats/lib/python3.10/site-packages/torch/nn/modules/sparse.py\", line 162, in forward\n",
      "    return F.embedding(\n",
      "  File \"/Users/bm/miniforge3/envs/cats/lib/python3.10/site-packages/torch/nn/modules/sparse.py\", line 162, in forward\n",
      "    return F.embedding(\n",
      "  File \"/Users/bm/miniforge3/envs/cats/lib/python3.10/site-packages/torch/nn/modules/sparse.py\", line 162, in forward\n",
      "    return F.embedding(\n",
      "  File \"/Users/bm/miniforge3/envs/cats/lib/python3.10/site-packages/torch/nn/modules/sparse.py\", line 162, in forward\n",
      "    return F.embedding(\n",
      "  File \"/Users/bm/miniforge3/envs/cats/lib/python3.10/site-packages/torch/nn/modules/sparse.py\", line 162, in forward\n",
      "    return F.embedding(\n",
      "  File \"/Users/bm/miniforge3/envs/cats/lib/python3.10/site-packages/torch/nn/functional.py\", line 2210, in embedding\n",
      "    return torch.embedding(weight, input, padding_idx, scale_grad_by_freq, sparse)\n",
      "  File \"/Users/bm/miniforge3/envs/cats/lib/python3.10/site-packages/torch/nn/functional.py\", line 2210, in embedding\n",
      "    return torch.embedding(weight, input, padding_idx, scale_grad_by_freq, sparse)\n",
      "  File \"/Users/bm/miniforge3/envs/cats/lib/python3.10/site-packages/torch/nn/functional.py\", line 2210, in embedding\n",
      "    return torch.embedding(weight, input, padding_idx, scale_grad_by_freq, sparse)\n",
      "  File \"/Users/bm/miniforge3/envs/cats/lib/python3.10/site-packages/torch/nn/functional.py\", line 2210, in embedding\n",
      "    return torch.embedding(weight, input, padding_idx, scale_grad_by_freq, sparse)\n",
      "  File \"/Users/bm/miniforge3/envs/cats/lib/python3.10/site-packages/torch/nn/functional.py\", line 2210, in embedding\n",
      "    return torch.embedding(weight, input, padding_idx, scale_grad_by_freq, sparse)\n",
      "  File \"/Users/bm/miniforge3/envs/cats/lib/python3.10/site-packages/torch/nn/functional.py\", line 2210, in embedding\n",
      "    return torch.embedding(weight, input, padding_idx, scale_grad_by_freq, sparse)\n",
      "  File \"/Users/bm/miniforge3/envs/cats/lib/python3.10/site-packages/torch/nn/functional.py\", line 2210, in embedding\n",
      "    return torch.embedding(weight, input, padding_idx, scale_grad_by_freq, sparse)\n",
      "KeyboardInterrupt\n",
      "KeyboardInterrupt\n",
      "KeyboardInterrupt\n",
      "KeyboardInterrupt\n",
      "KeyboardInterrupt\n",
      "KeyboardInterrupt\n",
      "KeyboardInterrupt\n"
     ]
    },
    {
     "ename": "TimeoutError",
     "evalue": "",
     "output_type": "error",
     "traceback": [
      "\u001B[0;31m---------------------------------------------------------------------------\u001B[0m",
      "\u001B[0;31mKeyboardInterrupt\u001B[0m                         Traceback (most recent call last)",
      "File \u001B[0;32m~/miniforge3/envs/cats/lib/python3.10/site-packages/datasets/utils/py_utils.py:1373\u001B[0m, in \u001B[0;36miflatmap_unordered\u001B[0;34m(pool, func, kwargs_iterable)\u001B[0m\n\u001B[1;32m   1372\u001B[0m \u001B[38;5;28;01mtry\u001B[39;00m:\n\u001B[0;32m-> 1373\u001B[0m     \u001B[38;5;28;01myield\u001B[39;00m \u001B[43mqueue\u001B[49m\u001B[38;5;241;43m.\u001B[39;49m\u001B[43mget\u001B[49m\u001B[43m(\u001B[49m\u001B[43mtimeout\u001B[49m\u001B[38;5;241;43m=\u001B[39;49m\u001B[38;5;241;43m0.05\u001B[39;49m\u001B[43m)\u001B[49m\n\u001B[1;32m   1374\u001B[0m \u001B[38;5;28;01mexcept\u001B[39;00m Empty:\n",
      "File \u001B[0;32m<string>:2\u001B[0m, in \u001B[0;36mget\u001B[0;34m(self, *args, **kwds)\u001B[0m\n",
      "File \u001B[0;32m~/miniforge3/envs/cats/lib/python3.10/site-packages/multiprocess/managers.py:818\u001B[0m, in \u001B[0;36mBaseProxy._callmethod\u001B[0;34m(self, methodname, args, kwds)\u001B[0m\n\u001B[1;32m    817\u001B[0m conn\u001B[38;5;241m.\u001B[39msend((\u001B[38;5;28mself\u001B[39m\u001B[38;5;241m.\u001B[39m_id, methodname, args, kwds))\n\u001B[0;32m--> 818\u001B[0m kind, result \u001B[38;5;241m=\u001B[39m \u001B[43mconn\u001B[49m\u001B[38;5;241;43m.\u001B[39;49m\u001B[43mrecv\u001B[49m\u001B[43m(\u001B[49m\u001B[43m)\u001B[49m\n\u001B[1;32m    820\u001B[0m \u001B[38;5;28;01mif\u001B[39;00m kind \u001B[38;5;241m==\u001B[39m \u001B[38;5;124m'\u001B[39m\u001B[38;5;124m#RETURN\u001B[39m\u001B[38;5;124m'\u001B[39m:\n",
      "File \u001B[0;32m~/miniforge3/envs/cats/lib/python3.10/site-packages/multiprocess/connection.py:258\u001B[0m, in \u001B[0;36m_ConnectionBase.recv\u001B[0;34m(self)\u001B[0m\n\u001B[1;32m    257\u001B[0m \u001B[38;5;28mself\u001B[39m\u001B[38;5;241m.\u001B[39m_check_readable()\n\u001B[0;32m--> 258\u001B[0m buf \u001B[38;5;241m=\u001B[39m \u001B[38;5;28;43mself\u001B[39;49m\u001B[38;5;241;43m.\u001B[39;49m\u001B[43m_recv_bytes\u001B[49m\u001B[43m(\u001B[49m\u001B[43m)\u001B[49m\n\u001B[1;32m    259\u001B[0m \u001B[38;5;28;01mreturn\u001B[39;00m _ForkingPickler\u001B[38;5;241m.\u001B[39mloads(buf\u001B[38;5;241m.\u001B[39mgetbuffer())\n",
      "File \u001B[0;32m~/miniforge3/envs/cats/lib/python3.10/site-packages/multiprocess/connection.py:422\u001B[0m, in \u001B[0;36mConnection._recv_bytes\u001B[0;34m(self, maxsize)\u001B[0m\n\u001B[1;32m    421\u001B[0m \u001B[38;5;28;01mdef\u001B[39;00m \u001B[38;5;21m_recv_bytes\u001B[39m(\u001B[38;5;28mself\u001B[39m, maxsize\u001B[38;5;241m=\u001B[39m\u001B[38;5;28;01mNone\u001B[39;00m):\n\u001B[0;32m--> 422\u001B[0m     buf \u001B[38;5;241m=\u001B[39m \u001B[38;5;28;43mself\u001B[39;49m\u001B[38;5;241;43m.\u001B[39;49m\u001B[43m_recv\u001B[49m\u001B[43m(\u001B[49m\u001B[38;5;241;43m4\u001B[39;49m\u001B[43m)\u001B[49m\n\u001B[1;32m    423\u001B[0m     size, \u001B[38;5;241m=\u001B[39m struct\u001B[38;5;241m.\u001B[39munpack(\u001B[38;5;124m\"\u001B[39m\u001B[38;5;124m!i\u001B[39m\u001B[38;5;124m\"\u001B[39m, buf\u001B[38;5;241m.\u001B[39mgetvalue())\n",
      "File \u001B[0;32m~/miniforge3/envs/cats/lib/python3.10/site-packages/multiprocess/connection.py:387\u001B[0m, in \u001B[0;36mConnection._recv\u001B[0;34m(self, size, read)\u001B[0m\n\u001B[1;32m    386\u001B[0m \u001B[38;5;28;01mwhile\u001B[39;00m remaining \u001B[38;5;241m>\u001B[39m \u001B[38;5;241m0\u001B[39m:\n\u001B[0;32m--> 387\u001B[0m     chunk \u001B[38;5;241m=\u001B[39m \u001B[43mread\u001B[49m\u001B[43m(\u001B[49m\u001B[43mhandle\u001B[49m\u001B[43m,\u001B[49m\u001B[43m \u001B[49m\u001B[43mremaining\u001B[49m\u001B[43m)\u001B[49m\n\u001B[1;32m    388\u001B[0m     n \u001B[38;5;241m=\u001B[39m \u001B[38;5;28mlen\u001B[39m(chunk)\n",
      "\u001B[0;31mKeyboardInterrupt\u001B[0m: ",
      "\nDuring handling of the above exception, another exception occurred:\n",
      "\u001B[0;31mTimeoutError\u001B[0m                              Traceback (most recent call last)",
      "Cell \u001B[0;32mIn[18], line 18\u001B[0m\n\u001B[1;32m     16\u001B[0m sample_dataset \u001B[38;5;241m=\u001B[39m split_dataset[\u001B[38;5;124m'\u001B[39m\u001B[38;5;124mtrain\u001B[39m\u001B[38;5;124m'\u001B[39m]\u001B[38;5;241m.\u001B[39mselect(\u001B[38;5;28mrange\u001B[39m(\u001B[38;5;241m10\u001B[39m))\n\u001B[1;32m     17\u001B[0m \u001B[38;5;66;03m# tokenize the dataset\u001B[39;00m\n\u001B[0;32m---> 18\u001B[0m tokenized \u001B[38;5;241m=\u001B[39m \u001B[43msample_dataset\u001B[49m\u001B[38;5;241;43m.\u001B[39;49m\u001B[43mmap\u001B[49m\u001B[43m(\u001B[49m\n\u001B[1;32m     19\u001B[0m \u001B[43m    \u001B[49m\u001B[43mprocess\u001B[49m\u001B[43m,\u001B[49m\n\u001B[1;32m     20\u001B[0m \u001B[43m    \u001B[49m\u001B[38;5;66;43;03m# remove_columns=['sentences'],\u001B[39;49;00m\n\u001B[1;32m     21\u001B[0m \u001B[43m    \u001B[49m\u001B[43mdesc\u001B[49m\u001B[38;5;241;43m=\u001B[39;49m\u001B[38;5;124;43m\"\u001B[39;49m\u001B[38;5;124;43mtokenizing the splits\u001B[39;49m\u001B[38;5;124;43m\"\u001B[39;49m\u001B[43m,\u001B[49m\n\u001B[1;32m     22\u001B[0m \u001B[43m    \u001B[49m\u001B[43mnum_proc\u001B[49m\u001B[38;5;241;43m=\u001B[39;49m\u001B[38;5;241;43m7\u001B[39;49m\u001B[43m,\u001B[49m\n\u001B[1;32m     23\u001B[0m \n\u001B[1;32m     24\u001B[0m \u001B[43m)\u001B[49m\n",
      "File \u001B[0;32m~/miniforge3/envs/cats/lib/python3.10/site-packages/datasets/arrow_dataset.py:578\u001B[0m, in \u001B[0;36mtransmit_tasks.<locals>.wrapper\u001B[0;34m(*args, **kwargs)\u001B[0m\n\u001B[1;32m    576\u001B[0m     \u001B[38;5;28mself\u001B[39m: \u001B[38;5;124m\"\u001B[39m\u001B[38;5;124mDataset\u001B[39m\u001B[38;5;124m\"\u001B[39m \u001B[38;5;241m=\u001B[39m kwargs\u001B[38;5;241m.\u001B[39mpop(\u001B[38;5;124m\"\u001B[39m\u001B[38;5;124mself\u001B[39m\u001B[38;5;124m\"\u001B[39m)\n\u001B[1;32m    577\u001B[0m \u001B[38;5;66;03m# apply actual function\u001B[39;00m\n\u001B[0;32m--> 578\u001B[0m out: Union[\u001B[38;5;124m\"\u001B[39m\u001B[38;5;124mDataset\u001B[39m\u001B[38;5;124m\"\u001B[39m, \u001B[38;5;124m\"\u001B[39m\u001B[38;5;124mDatasetDict\u001B[39m\u001B[38;5;124m\"\u001B[39m] \u001B[38;5;241m=\u001B[39m \u001B[43mfunc\u001B[49m\u001B[43m(\u001B[49m\u001B[38;5;28;43mself\u001B[39;49m\u001B[43m,\u001B[49m\u001B[43m \u001B[49m\u001B[38;5;241;43m*\u001B[39;49m\u001B[43margs\u001B[49m\u001B[43m,\u001B[49m\u001B[43m \u001B[49m\u001B[38;5;241;43m*\u001B[39;49m\u001B[38;5;241;43m*\u001B[39;49m\u001B[43mkwargs\u001B[49m\u001B[43m)\u001B[49m\n\u001B[1;32m    579\u001B[0m datasets: List[\u001B[38;5;124m\"\u001B[39m\u001B[38;5;124mDataset\u001B[39m\u001B[38;5;124m\"\u001B[39m] \u001B[38;5;241m=\u001B[39m \u001B[38;5;28mlist\u001B[39m(out\u001B[38;5;241m.\u001B[39mvalues()) \u001B[38;5;28;01mif\u001B[39;00m \u001B[38;5;28misinstance\u001B[39m(out, \u001B[38;5;28mdict\u001B[39m) \u001B[38;5;28;01melse\u001B[39;00m [out]\n\u001B[1;32m    580\u001B[0m \u001B[38;5;28;01mfor\u001B[39;00m dataset \u001B[38;5;129;01min\u001B[39;00m datasets:\n\u001B[1;32m    581\u001B[0m     \u001B[38;5;66;03m# Remove task templates if a column mapping of the template is no longer valid\u001B[39;00m\n",
      "File \u001B[0;32m~/miniforge3/envs/cats/lib/python3.10/site-packages/datasets/arrow_dataset.py:543\u001B[0m, in \u001B[0;36mtransmit_format.<locals>.wrapper\u001B[0;34m(*args, **kwargs)\u001B[0m\n\u001B[1;32m    536\u001B[0m self_format \u001B[38;5;241m=\u001B[39m {\n\u001B[1;32m    537\u001B[0m     \u001B[38;5;124m\"\u001B[39m\u001B[38;5;124mtype\u001B[39m\u001B[38;5;124m\"\u001B[39m: \u001B[38;5;28mself\u001B[39m\u001B[38;5;241m.\u001B[39m_format_type,\n\u001B[1;32m    538\u001B[0m     \u001B[38;5;124m\"\u001B[39m\u001B[38;5;124mformat_kwargs\u001B[39m\u001B[38;5;124m\"\u001B[39m: \u001B[38;5;28mself\u001B[39m\u001B[38;5;241m.\u001B[39m_format_kwargs,\n\u001B[1;32m    539\u001B[0m     \u001B[38;5;124m\"\u001B[39m\u001B[38;5;124mcolumns\u001B[39m\u001B[38;5;124m\"\u001B[39m: \u001B[38;5;28mself\u001B[39m\u001B[38;5;241m.\u001B[39m_format_columns,\n\u001B[1;32m    540\u001B[0m     \u001B[38;5;124m\"\u001B[39m\u001B[38;5;124moutput_all_columns\u001B[39m\u001B[38;5;124m\"\u001B[39m: \u001B[38;5;28mself\u001B[39m\u001B[38;5;241m.\u001B[39m_output_all_columns,\n\u001B[1;32m    541\u001B[0m }\n\u001B[1;32m    542\u001B[0m \u001B[38;5;66;03m# apply actual function\u001B[39;00m\n\u001B[0;32m--> 543\u001B[0m out: Union[\u001B[38;5;124m\"\u001B[39m\u001B[38;5;124mDataset\u001B[39m\u001B[38;5;124m\"\u001B[39m, \u001B[38;5;124m\"\u001B[39m\u001B[38;5;124mDatasetDict\u001B[39m\u001B[38;5;124m\"\u001B[39m] \u001B[38;5;241m=\u001B[39m \u001B[43mfunc\u001B[49m\u001B[43m(\u001B[49m\u001B[38;5;28;43mself\u001B[39;49m\u001B[43m,\u001B[49m\u001B[43m \u001B[49m\u001B[38;5;241;43m*\u001B[39;49m\u001B[43margs\u001B[49m\u001B[43m,\u001B[49m\u001B[43m \u001B[49m\u001B[38;5;241;43m*\u001B[39;49m\u001B[38;5;241;43m*\u001B[39;49m\u001B[43mkwargs\u001B[49m\u001B[43m)\u001B[49m\n\u001B[1;32m    544\u001B[0m datasets: List[\u001B[38;5;124m\"\u001B[39m\u001B[38;5;124mDataset\u001B[39m\u001B[38;5;124m\"\u001B[39m] \u001B[38;5;241m=\u001B[39m \u001B[38;5;28mlist\u001B[39m(out\u001B[38;5;241m.\u001B[39mvalues()) \u001B[38;5;28;01mif\u001B[39;00m \u001B[38;5;28misinstance\u001B[39m(out, \u001B[38;5;28mdict\u001B[39m) \u001B[38;5;28;01melse\u001B[39;00m [out]\n\u001B[1;32m    545\u001B[0m \u001B[38;5;66;03m# re-apply format to the output\u001B[39;00m\n",
      "File \u001B[0;32m~/miniforge3/envs/cats/lib/python3.10/site-packages/datasets/arrow_dataset.py:3166\u001B[0m, in \u001B[0;36mDataset.map\u001B[0;34m(self, function, with_indices, with_rank, input_columns, batched, batch_size, drop_last_batch, remove_columns, keep_in_memory, load_from_cache_file, cache_file_name, writer_batch_size, features, disable_nullable, fn_kwargs, num_proc, suffix_template, new_fingerprint, desc)\u001B[0m\n\u001B[1;32m   3158\u001B[0m logger\u001B[38;5;241m.\u001B[39minfo(\u001B[38;5;124mf\u001B[39m\u001B[38;5;124m\"\u001B[39m\u001B[38;5;124mSpawning \u001B[39m\u001B[38;5;132;01m{\u001B[39;00mnum_proc\u001B[38;5;132;01m}\u001B[39;00m\u001B[38;5;124m processes\u001B[39m\u001B[38;5;124m\"\u001B[39m)\n\u001B[1;32m   3159\u001B[0m \u001B[38;5;28;01mwith\u001B[39;00m logging\u001B[38;5;241m.\u001B[39mtqdm(\n\u001B[1;32m   3160\u001B[0m     disable\u001B[38;5;241m=\u001B[39m\u001B[38;5;129;01mnot\u001B[39;00m logging\u001B[38;5;241m.\u001B[39mis_progress_bar_enabled(),\n\u001B[1;32m   3161\u001B[0m     unit\u001B[38;5;241m=\u001B[39m\u001B[38;5;124m\"\u001B[39m\u001B[38;5;124m examples\u001B[39m\u001B[38;5;124m\"\u001B[39m,\n\u001B[0;32m   (...)\u001B[0m\n\u001B[1;32m   3164\u001B[0m     desc\u001B[38;5;241m=\u001B[39m(desc \u001B[38;5;129;01mor\u001B[39;00m \u001B[38;5;124m\"\u001B[39m\u001B[38;5;124mMap\u001B[39m\u001B[38;5;124m\"\u001B[39m) \u001B[38;5;241m+\u001B[39m \u001B[38;5;124mf\u001B[39m\u001B[38;5;124m\"\u001B[39m\u001B[38;5;124m (num_proc=\u001B[39m\u001B[38;5;132;01m{\u001B[39;00mnum_proc\u001B[38;5;132;01m}\u001B[39;00m\u001B[38;5;124m)\u001B[39m\u001B[38;5;124m\"\u001B[39m,\n\u001B[1;32m   3165\u001B[0m ) \u001B[38;5;28;01mas\u001B[39;00m pbar:\n\u001B[0;32m-> 3166\u001B[0m     \u001B[38;5;28;01mfor\u001B[39;00m rank, done, content \u001B[38;5;129;01min\u001B[39;00m iflatmap_unordered(\n\u001B[1;32m   3167\u001B[0m         pool, Dataset\u001B[38;5;241m.\u001B[39m_map_single, kwargs_iterable\u001B[38;5;241m=\u001B[39mkwargs_per_job\n\u001B[1;32m   3168\u001B[0m     ):\n\u001B[1;32m   3169\u001B[0m         \u001B[38;5;28;01mif\u001B[39;00m done:\n\u001B[1;32m   3170\u001B[0m             shards_done \u001B[38;5;241m+\u001B[39m\u001B[38;5;241m=\u001B[39m \u001B[38;5;241m1\u001B[39m\n",
      "File \u001B[0;32m~/miniforge3/envs/cats/lib/python3.10/site-packages/datasets/utils/py_utils.py:1379\u001B[0m, in \u001B[0;36miflatmap_unordered\u001B[0;34m(pool, func, kwargs_iterable)\u001B[0m\n\u001B[1;32m   1376\u001B[0m                 \u001B[38;5;28;01mbreak\u001B[39;00m\n\u001B[1;32m   1377\u001B[0m \u001B[38;5;28;01mfinally\u001B[39;00m:\n\u001B[1;32m   1378\u001B[0m     \u001B[38;5;66;03m# we get the result in case there's an error to raise\u001B[39;00m\n\u001B[0;32m-> 1379\u001B[0m     [async_result\u001B[38;5;241m.\u001B[39mget(timeout\u001B[38;5;241m=\u001B[39m\u001B[38;5;241m0.05\u001B[39m) \u001B[38;5;28;01mfor\u001B[39;00m async_result \u001B[38;5;129;01min\u001B[39;00m async_results]\n",
      "File \u001B[0;32m~/miniforge3/envs/cats/lib/python3.10/site-packages/datasets/utils/py_utils.py:1379\u001B[0m, in \u001B[0;36m<listcomp>\u001B[0;34m(.0)\u001B[0m\n\u001B[1;32m   1376\u001B[0m                 \u001B[38;5;28;01mbreak\u001B[39;00m\n\u001B[1;32m   1377\u001B[0m \u001B[38;5;28;01mfinally\u001B[39;00m:\n\u001B[1;32m   1378\u001B[0m     \u001B[38;5;66;03m# we get the result in case there's an error to raise\u001B[39;00m\n\u001B[0;32m-> 1379\u001B[0m     [\u001B[43masync_result\u001B[49m\u001B[38;5;241;43m.\u001B[39;49m\u001B[43mget\u001B[49m\u001B[43m(\u001B[49m\u001B[43mtimeout\u001B[49m\u001B[38;5;241;43m=\u001B[39;49m\u001B[38;5;241;43m0.05\u001B[39;49m\u001B[43m)\u001B[49m \u001B[38;5;28;01mfor\u001B[39;00m async_result \u001B[38;5;129;01min\u001B[39;00m async_results]\n",
      "File \u001B[0;32m~/miniforge3/envs/cats/lib/python3.10/site-packages/multiprocess/pool.py:770\u001B[0m, in \u001B[0;36mApplyResult.get\u001B[0;34m(self, timeout)\u001B[0m\n\u001B[1;32m    768\u001B[0m \u001B[38;5;28mself\u001B[39m\u001B[38;5;241m.\u001B[39mwait(timeout)\n\u001B[1;32m    769\u001B[0m \u001B[38;5;28;01mif\u001B[39;00m \u001B[38;5;129;01mnot\u001B[39;00m \u001B[38;5;28mself\u001B[39m\u001B[38;5;241m.\u001B[39mready():\n\u001B[0;32m--> 770\u001B[0m     \u001B[38;5;28;01mraise\u001B[39;00m \u001B[38;5;167;01mTimeoutError\u001B[39;00m\n\u001B[1;32m    771\u001B[0m \u001B[38;5;28;01mif\u001B[39;00m \u001B[38;5;28mself\u001B[39m\u001B[38;5;241m.\u001B[39m_success:\n\u001B[1;32m    772\u001B[0m     \u001B[38;5;28;01mreturn\u001B[39;00m \u001B[38;5;28mself\u001B[39m\u001B[38;5;241m.\u001B[39m_value\n",
      "\u001B[0;31mTimeoutError\u001B[0m: "
     ]
    }
   ],
   "source": [
    "from sentence_transformers import SentenceTransformer\n",
    "# model_name = 'all-MiniLM-L6-v2'\n",
    "# model = SentenceTransformer(model_name)\n",
    "# we now want to tokenize the dataset. first define the encoding function (gpt2 bpe)\n",
    "def process(example):\n",
    "    global model\n",
    "    if 'model' not in globals():\n",
    "        model_name = 'all-MiniLM-L6-v2'\n",
    "        model = SentenceTransformer(model_name)\n",
    "\n",
    "    embds = model.encode(example['sentences'])\n",
    "    print(\"after encode\")\n",
    "    out = {'id': example['id'], 'labels': example['labels'], 'embeddings': embds}\n",
    "    return out\n",
    "\n",
    "sample_dataset = split_dataset['train'].select(range(10))\n",
    "# tokenize the dataset\n",
    "tokenized = sample_dataset.map(\n",
    "    process,\n",
    "    # remove_columns=['sentences'],\n",
    "    desc=\"tokenizing the splits\",\n",
    "    num_proc=7,\n",
    ")\n"
   ],
   "metadata": {
    "collapsed": false,
    "ExecuteTime": {
     "start_time": "2023-05-04T17:54:26.499707Z",
     "end_time": "2023-05-04T17:54:28.838900Z"
    }
   }
  },
  {
   "cell_type": "code",
   "execution_count": 4,
   "outputs": [
    {
     "name": "stderr",
     "output_type": "stream",
     "text": [
      "Found cached dataset json (/Users/bm/.cache/huggingface/datasets/json/default-14dc56ae28f0b495/0.0.0/e347ab1c932092252e717ff3f949105a4dd28b27e842dd53157d2f72e276c2e4)\n"
     ]
    },
    {
     "data": {
      "text/plain": "  0%|          | 0/1 [00:00<?, ?it/s]",
      "application/vnd.jupyter.widget-view+json": {
       "version_major": 2,
       "version_minor": 0,
       "model_id": "7ffc7317a793474ca3c0e85e88c48231"
      }
     },
     "metadata": {},
     "output_type": "display_data"
    },
    {
     "data": {
      "text/plain": "72354"
     },
     "execution_count": 4,
     "metadata": {},
     "output_type": "execute_result"
    }
   ],
   "source": [
    "from datasets import load_dataset\n",
    "from multiprocessing import Pool, cpu_count\n",
    "from tokenizer import process\n",
    "\n",
    "dataset = load_dataset(\"json\", data_files='./data/json/dev.json')\n",
    "\n"
   ],
   "metadata": {
    "collapsed": false,
    "ExecuteTime": {
     "start_time": "2023-05-04T18:20:12.942592Z",
     "end_time": "2023-05-04T18:20:15.522954Z"
    }
   }
  },
  {
   "cell_type": "code",
   "execution_count": 6,
   "outputs": [
    {
     "data": {
      "text/plain": "[['According to the \"Epic of Sundiata\", Kouroukan Fouga or Kurukan Fuga was the constitution of the Mali Empire created after the Battle of Krina (1235) by an assembly of nobles to create a government for the newly established empire.',\n  'According to oral tradition of the \"griot\" poets of Mali and Guinea, the Kouroukan Fouga established the federation of Mandinka clans under one government, outlined how it would operate and established the laws by which the people would live.',\n  'The name \"Kurukan Fuga\" is a toponym, translating to \"clearing on granite / lateritic rock\", referring to the plain near the town of Ka-ba (present day Kangaba) where the narrative has Sundiata Keita present the charter.',\n  'The \"Manden Charter, proclaimed in Kurukan Fuga\", was inscribed in 2009 (4.COM) on the Representative List of the Intangible Cultural Heritage of Humanity kept by UNESCO.',\n  'The earliest extant versions of the \"Epic of Sundiata\" were collected in the 1890s, and the first close transcription dates to 1967.',\n  'As an instance of oral history, the epic does not exist in a fixed form.',\n  'An attempt to \"reconstruct\" the Kouroukan Fouga from oral tradition was made in 1998, in a regional workshop held in Kankan, Guinea, with the aim of publishing and preserving the oral history related to the area\\'s \"djeli\" or \"griots\".',\n  'Assisted by modern communicators and Guinea linguists under the supervision of Siriman Kouyaté, the workshop transcribed and translated the laws and edicts preserved in different regions from the core of the Mali Empire.',\n  'Kouyaté judged his reconstruction as being \"a relatively faithful reproduction of a charter created in the fourteenth century\".',\n  'Djibril Tamsir Niane in an interview went as far as claiming the reconstruction was a \"declaration on the rights of man\" drafted \"in 1236\".',\n  'The English version of the charter was re-published by Mangoné Niang, Director of CELTHO/UA (Niamey), with a short commentary prepared by Siriman Kouyaté, as an annex to the \"Working Documents\" for the \"Inter-generational Forum on Endogenous Governance in West Africa\" organised by Sahel and West Africa Club / OECD, Ouagadougou (Burkina Faso), 26 to 28 June 2006.',\n  'According to Niang\\'s introduction,  Niang lists ten \"traditional communicators\" on whose authority the text was reconstructed.',\n  'Siriman Kouyaté, the author of the reconstruction, is listed as one of the ten authorities.',\n  'Niang adds that \"the original text in Malinke is available on the digital data bank ARTO\".',\n  'The ten sources are listed as follows:',\n  'Siaka Kouyaté, Niagassola, Siguiri (Guinea),',\n  'Lamine Kouyaté, Loïla, Mandiana (Guinea), ',\n  'Damissa Sékou Diabaté, Siguiri (Guinea), ',\n  'Koulako Touré, Faranah (Guinea), ',\n  'Mamady Kante dit Konkoba, Dinguiraye (Guinea), ',\n  'Old Koita, Kérouané (Guinea), ',\n  'Sekouba Condé, Dabola (Guinea), ',\n  'E. Oumar Camara, Kankan (Guinea), ',\n  'Abdoulaye Kanouté, Tambakounda (Senegal), ',\n  'Siriman Kouyaté, Niagassola, Siguiri (Guinea).',\n  'The reconstructed Kouroukan Fouga, as published by Kouyaté, contains 44 edicts.',\n  'They are divided into four sections concerned with Social Organization (edicts 1-30), Property Rights (edicts 31-36), Environmental Protection (edicts 37-39) and Personal Responsibilities (edicts 40-44).',\n  'The Kouroukan Fouga divided the new empire into ruling clans (lineages) that were represented at a great assembly called the \"Gbara\".',\n  'There were 16 clans known as the \"Djon-Tan-Nor-Woro\" (quiver carriers) responsible for leading and defending the empire.',\n  'There were also 4 clans known as the \"Mori-Kanda-Lolou\" (guardians of the faith) who guided the ruling clans in matters of Islamic law.',\n  'There were 4 \"nyamakala\" clans (people of caste) who had the monopoly on certain trades, which included but was not limited to smelting, woodworking, and tanners.',\n  'Lastly, there were 4 clans of \"djeli\" (masters of speech) who recorded the history of the empire through song.',\n  'Combined these would make up the 29 seat \"Gbara\" at the plain of Kouroukan Fougan (named after the event where Sundiata \"divided the world\").',\n  'The 30th seat was likely occupied by the mansa\\'s \"djeli\" called the \"belen-tigui\" (master of ceremonies), or may have been reserved for a female monitor since the constitution states women are to be represented at all levels of government (edict 16).',\n  'Article 7 institutes the \"sanankuya\" (a type of cousinage or joking relationship that is a longstanding West African social tradition) as a civic duty.',\n  'Kouyaté in his commentary draws attention to paragraph 20, dealing with the humane treatment of slaves.'],\n ['Kyprinos () is a town and a former municipality in the Evros regional unit, East Macedonia and Thrace, Greece.',\n  'Since the 2011 local government reform it is part of the municipality Orestiada, of which it is a municipal unit.',\n  'The municipal unit has an area of 135.976 km.',\n  'In 2011 its population was 806 for the village and 2,226 for the municipal unit.',\n  'Kyprinos is located southwest of Edirne, Turkey, west-northwest of Orestiada, north of Alexandroupoli and about 5 to 6\\xa0km east of Kurdzhali and the Bulgarian frontier, where there is a border crossing.',\n  'Athens is approximately 1,050\\xa0km to the southwest.',\n  'Komara is on the other side of the river Ardas.',\n  'The Turkish name of Kyprinos was at first \"Simavna\", after \"Sarihadir\".',\n  'Kyprinos was once called \"Sarihadir\" what means \"yellow Hadir\".',\n  'Hadir is Hidir who was an Islamic religious figure.',\n  \"His holiday was celebrated at the same day the Greek Christian Saint St. George's holiday was celebrated (April, 23rd).\",\n  \"St. George was and still is the guardian Saint of the village Kyprinos and also its church' name-giver.\",\n  'So the Turkish just interpreted Kyprinos as the village with the yellow church -which indeed was made out of yellow stones- meaning St. George, whom they considered to be something like the religious person whom they knew as Hadir.',\n  'The church is still there down in the valley and can be visited at any time.',\n  'When the great flood of the 1920s destroyed every house of the village which at that time was also located in the valley not a single building resisted its power except for that church.',\n  'The Greek name \"Kyprinos\" means \"carp\".',\n  'It is not clear whether that name was given to the village because of the carps found in the nearby Ardas river or for some other reasons.',\n  'The name is rendered in Bulgarian as Саръхадър, \"Saryhadyr\".',\n  'Its logo contains a beautiful blue sky with its setting sun with a forested mountain and hills and foothills.',\n  'In the middle is the river Arda written in the Greek alphabet, also a swan and two fishes are in the water which is mainly its reservoir.',\n  'Its rim is coloured yellow and reflects the colour gold.',\n  'Its Greek form of the municipality is at the bottom along with the Delta-Kappa letter and the founding year.',\n  'The Greek word for welcome (\"Kalos Irthate\") is at the bottom as well.',\n  'The villages of and around Kyprinos are assumed to have been there for many centuries and what can certainly be said is that in the documents of the late 18th century found in different archives, both Greek and Turkish, Kyprinos itself and most of the nearby villages are already mentioned.',\n  'Even though it is not clear when the first ones were founded since historical sources are rare and barely explicit.',\n  'However, there is evidence that in the Ancient world there already were settlements in that area.',\n  'Excavations near the village of Mikri Doxipara - Zoni have brought interesting pieces of ancient Thracian culture (Thrace) into the light.',\n  'The Tombs found in that place (8\\xa0km from Kyprinos, between Zoni and Mikri Doxipara) are estimated to be from the 1st or 2nd century AD.',\n  'Sheikh Bedreddin (1359–1420), also known as Sheikh Bedreddin, was born in Kyprinos, son of a local g(h)azi (warrior), whose name was Israel.',\n  'He was a famous Sufi teacher and a rebel against the Ottoman central rule.',\n  'The modern municipality was founded in 1998.',\n  'The river of Ardas, after a distance of 216\\xa0km from its original source in the mountains of Rhodope enters the Kyprinos territory on the border to Bulgaria close to the village of Galini and reaches from there to the river Evros (Maritsa), flowing along Kyprinos and Filakio.',\n  'The Ardas river composes an important ecosystem for that area and its forest which is growing corresponding to its river bed.',\n  'It is a biotope of crucial importance on a regional as well as on a national level.',\n  'There is a reservoir dam, the Kyprinos Dam, built in 1969 approximately 8\\xa0km from Kyprinos of 350 meters width providing resident farmers with water.']]"
     },
     "execution_count": 6,
     "metadata": {},
     "output_type": "execute_result"
    }
   ],
   "source": [
    "dataset['train']['sentences'][1:3]"
   ],
   "metadata": {
    "collapsed": false,
    "ExecuteTime": {
     "start_time": "2023-05-04T18:21:30.856449Z",
     "end_time": "2023-05-04T18:21:30.857863Z"
    }
   }
  },
  {
   "cell_type": "code",
   "execution_count": null,
   "outputs": [],
   "source": [
    "\n",
    "# Tokenize the dataset using multiprocessing\n",
    "def tokenize_dataset(dataset):\n",
    "    num_processes = cpu_count() - 1\n",
    "    pool = Pool(processes=num_processes)\n",
    "\n",
    "    examples = dataset['train']['sentences']\n",
    "    examples_per_process = len(examples) // num_processes\n",
    "\n",
    "    results = []\n",
    "\n",
    "    for i in range(num_processes):\n",
    "        start_idx = i * examples_per_process\n",
    "        end_idx = (i+1) * examples_per_process if i < num_processes - 1 else len(examples)\n",
    "\n",
    "        batch = examples[start_idx:end_idx]\n",
    "        results.append(pool.map(process, batch))\n",
    "\n",
    "    pool.close()\n",
    "    pool.join()\n",
    "\n",
    "    # Flatten the list of lists and return as a single list of examples\n",
    "    flattened_results = [item for sublist in results for item in sublist]\n",
    "    return flattened_results\n",
    "\n",
    "tokenized_dataset = tokenize_dataset(dataset)"
   ],
   "metadata": {
    "collapsed": false
   }
  }
 ],
 "metadata": {
  "kernelspec": {
   "display_name": "Python 3",
   "language": "python",
   "name": "python3"
  },
  "language_info": {
   "codemirror_mode": {
    "name": "ipython",
    "version": 2
   },
   "file_extension": ".py",
   "mimetype": "text/x-python",
   "name": "python",
   "nbconvert_exporter": "python",
   "pygments_lexer": "ipython2",
   "version": "2.7.6"
  }
 },
 "nbformat": 4,
 "nbformat_minor": 0
}
